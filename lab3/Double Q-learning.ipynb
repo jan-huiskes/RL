{
 "cells": [
  {
   "cell_type": "markdown",
   "metadata": {},
   "source": [
    "## Normal Double Q vs normal Q"
   ]
  },
  {
   "cell_type": "code",
   "execution_count": null,
   "metadata": {},
   "outputs": [],
   "source": []
  },
  {
   "cell_type": "code",
   "execution_count": 1,
   "metadata": {},
   "outputs": [],
   "source": [
    "NAMES = \"Jan Huiskes, Eli de Smet\""
   ]
  },
  {
   "cell_type": "code",
   "execution_count": 2,
   "metadata": {},
   "outputs": [],
   "source": [
    "%matplotlib inline\n",
    "import os\n",
    "import numpy as np\n",
    "import matplotlib.pyplot as plt\n",
    "import sys\n",
    "\n",
    "import torch\n",
    "from torch import nn\n",
    "import torch.nn.functional as F\n",
    "from torch import optim\n",
    "from tqdm import tqdm as _tqdm\n",
    "\n",
    "import random\n",
    "import time\n",
    "from collections import defaultdict\n",
    "\n",
    "def tqdm(*args, **kwargs):\n",
    "    return _tqdm(*args, **kwargs, mininterval=1)  # Safety, do not overflow buffer\n",
    "\n",
    "EPS = float(np.finfo(np.float32).eps)\n",
    "\n",
    "assert sys.version_info[:3] >= (3, 6, 0), \"Make sure you have Python 3.6 installed!\""
   ]
  },
  {
   "cell_type": "code",
   "execution_count": 3,
   "metadata": {},
   "outputs": [],
   "source": [
    "from windy_gridworld import WindyGridworldEnv\n",
    "env = WindyGridworldEnv()"
   ]
  },
  {
   "cell_type": "code",
   "execution_count": 4,
   "metadata": {},
   "outputs": [],
   "source": [
    "def make_epsilon_greedy_policy(Q, epsilon, nA):\n",
    "    \"\"\"\n",
    "    Creates an epsilon-greedy policy based on a given Q-function and epsilon.\n",
    "    \"\"\"\n",
    "    def policy_fn(observation):\n",
    "        return int(np.random.rand() * nA) if np.random.rand() < epsilon else np.argmax(Q[observation])\n",
    "    return policy_fn"
   ]
  },
  {
   "cell_type": "code",
   "execution_count": 5,
   "metadata": {},
   "outputs": [
    {
     "data": {
      "image/png": "[encoded data removed]",
      "text/plain": [
       "<Figure size 432x288 with 1 Axes>"
      ]
     },
     "metadata": {
      "needs_background": "light"
     },
     "output_type": "display_data"
    },
    {
     "data": {
      "image/png": "[encoded data removed]",
      "text/plain": [
       "<Figure size 432x288 with 1 Axes>"
      ]
     },
     "metadata": {
      "needs_background": "light"
     },
     "output_type": "display_data"
    }
   ],
   "source": [
    "def q_learning(env, num_episodes, discount_factor=1.0, alpha=0.5, epsilon=0.1, Q=None):\n",
    "    \"\"\"\n",
    "    Q-Learning algorithm: Off-policy TD control. Finds the optimal greedy policy\n",
    "    while following an epsilon-greedy policy\n",
    "    \n",
    "    \n",
    "    Args:\n",
    "        env: OpenAI environment.\n",
    "        num_episodes: Number of episodes to run for.\n",
    "        discount_factor: Gamma discount factor.\n",
    "        alpha: TD learning rate.\n",
    "        epsilon: Probability to sample a random action. Float between 0 and 1.\n",
    "        Q: hot-start the algorithm with a Q value function (optional)\n",
    "    \n",
    "    Returns:\n",
    "        A tuple (Q, stats).\n",
    "        Q is the optimal action-value function, a dictionary mapping state -> action values.\n",
    "        stats is a list of tuples giving the episode lengths and rewards.\n",
    "    \"\"\"\n",
    "    \n",
    "    # The final action-value function.\n",
    "    # A nested dictionary that maps state -> (action -> action-value).\n",
    "    if Q is None:\n",
    "        Q = defaultdict(lambda: np.zeros(env.action_space.n))\n",
    "    \n",
    "    # Keeps track of useful statistics\n",
    "    stats = []\n",
    "    \n",
    "    # The policy we're following\n",
    "    policy = make_epsilon_greedy_policy(Q, epsilon, env.action_space.n)\n",
    "    \n",
    "    pol_greed = make_epsilon_greedy_policy(Q, 0, env.action_space.n)\n",
    "    \n",
    "    for i_episode in range(num_episodes):\n",
    "        i = 0\n",
    "        R = 0\n",
    "        \n",
    "        s = env.reset()\n",
    "#         a = policy(s) # dit heb ik weggehaald\n",
    "        while True:\n",
    "            a = policy(s) # dit heb ik toegevoegd\n",
    "            s_next, reward, done, _ = env.step(a)\n",
    "            i += 1\n",
    "            R += reward\n",
    "            \n",
    "            if done:\n",
    "                break\n",
    "            \n",
    "            a_next = pol_greed(s_next)\n",
    "            \n",
    "            Q[s][a] = alpha * (reward + discount_factor * Q[s_next][a_next] - Q[s][a]) + Q[s][a]\n",
    "            s = s_next\n",
    "#             a = a_next # dit heb ik weggehaald\n",
    "        \n",
    "        stats.append((i, R))\n",
    "    episode_lengths, episode_returns = zip(*stats)\n",
    "    return Q, (episode_lengths, episode_returns)\n",
    "\n",
    "Q_q_learning, (episode_lengths_q_learning, episode_returns_q_learning) = q_learning(env, 1000)\n",
    "\n",
    "# We will help you with plotting this time\n",
    "plt.plot(episode_lengths_q_learning)\n",
    "plt.title('Episode lengths Q-learning')\n",
    "plt.show()\n",
    "plt.plot(episode_returns_q_learning)\n",
    "plt.title('Episode returns Q-learning')\n",
    "plt.show()"
   ]
  },
  {
   "cell_type": "code",
   "execution_count": 6,
   "metadata": {},
   "outputs": [
    {
     "data": {
      "image/png": "[encoded data removed]",
      "text/plain": [
       "<Figure size 432x288 with 1 Axes>"
      ]
     },
     "metadata": {
      "needs_background": "light"
     },
     "output_type": "display_data"
    },
    {
     "data": {
      "image/png": "[encoded data removed]",
      "text/plain": [
       "<Figure size 432x288 with 1 Axes>"
      ]
     },
     "metadata": {
      "needs_background": "light"
     },
     "output_type": "display_data"
    }
   ],
   "source": [
    "def double_q_learning(env, num_episodes, discount_factor=1.0, alpha=0.5, epsilon=0.1, Q=None):\n",
    "    \"\"\"\n",
    "    Q-Learning algorithm: Off-policy TD control. Finds the optimal greedy policy\n",
    "    while following an epsilon-greedy policy\n",
    "    \n",
    "    \n",
    "    Args:\n",
    "        env: OpenAI environment.\n",
    "        num_episodes: Number of episodes to run for.\n",
    "        discount_factor: Gamma discount factor.\n",
    "        alpha: TD learning rate.\n",
    "        epsilon: Probability to sample a random action. Float between 0 and 1.\n",
    "        Q: hot-start the algorithm with a Q value function (optional)\n",
    "    \n",
    "    Returns:\n",
    "        A tuple (Q, stats).\n",
    "        Q is the optimal action-value function, a dictionary mapping state -> action values.\n",
    "        stats is a list of tuples giving the episode lengths and rewards.\n",
    "    \"\"\"\n",
    "    \n",
    "    # The final action-value function.\n",
    "    # A nested dictionary that maps state -> (action -> action-value).\n",
    "    # Q1, Q2, and one combined for eps greedy policy\n",
    "    if Q is None:\n",
    "        Q1 = defaultdict(lambda: np.zeros(env.action_space.n))\n",
    "        Q2 = defaultdict(lambda: np.zeros(env.action_space.n))\n",
    "        combined_Q = defaultdict(lambda: np.zeros(env.action_space.n))\n",
    "    \n",
    "    # Keeps track of useful statistics\n",
    "    stats = []\n",
    "    \n",
    "    # The policy we're following based on combined Q values\n",
    "    policy = make_epsilon_greedy_policy(combined_Q, epsilon, env.action_space.n)\n",
    "    \n",
    "    # Different greedy policies\n",
    "    pol_greed_1 = make_epsilon_greedy_policy(Q1, 0, env.action_space.n)\n",
    "    pol_greed_2 = make_epsilon_greedy_policy(Q2, 0, env.action_space.n)\n",
    "\n",
    "    for i_episode in range(num_episodes):\n",
    "        i = 0\n",
    "        R = 0\n",
    "        \n",
    "        s = env.reset()\n",
    "        while True:\n",
    "            a = policy(s) \n",
    "            s_next, reward, done, _ = env.step(a)\n",
    "            i += 1\n",
    "            R += reward\n",
    "            \n",
    "            if done:\n",
    "                break\n",
    "            # Random pick one, update and update the combined Dictionary\n",
    "            if np.random.uniform() < 0.5:\n",
    "                a_next = pol_greed_2(s_next)\n",
    "                Q2[s][a] = alpha * (reward + discount_factor * Q1[s_next][a_next] - Q2[s][a]) + Q2[s][a]\n",
    "                combined_Q[s][a] = alpha * (reward + discount_factor * combined_Q[s_next][a_next] - combined_Q[s][a]) + combined_Q[s][a]\n",
    "                s = s_next\n",
    "            else:\n",
    "                a_next = pol_greed_1(s_next)\n",
    "                Q1[s][a] = alpha * (reward + discount_factor * Q2[s_next][a_next] - Q1[s][a]) + Q1[s][a]\n",
    "                combined_Q[s][a] = alpha * (reward + discount_factor * combined_Q[s_next][a_next] - combined_Q[s][a]) + combined_Q[s][a]\n",
    "                s = s_next\n",
    "        \n",
    "        stats.append((i, R))\n",
    "    episode_lengths, episode_returns = zip(*stats)\n",
    "    return Q, (episode_lengths, episode_returns)\n",
    "\n",
    "Q_double_q_learning, (episode_lengths_double_q_learning, episode_returns_double_q_learning) = double_q_learning(env, 1000)\n",
    "\n",
    "# We will help you with plotting this time\n",
    "plt.plot(episode_lengths_double_q_learning)\n",
    "plt.title('Episode lengths double Q-learning')\n",
    "plt.show()\n",
    "plt.plot(episode_returns_double_q_learning)\n",
    "plt.title('Episode returns double Q-learning')\n",
    "plt.show()"
   ]
  },
  {
   "cell_type": "code",
   "execution_count": 7,
   "metadata": {},
   "outputs": [
    {
     "data": {
      "image/png": "[encoded data removed]",
      "text/plain": [
       "<Figure size 432x288 with 1 Axes>"
      ]
     },
     "metadata": {
      "needs_background": "light"
     },
     "output_type": "display_data"
    }
   ],
   "source": [
    "# Plot better overview\n",
    "avg_rewards_q_learn = np.array(episode_returns_q_learning).reshape(-1, 10).mean(1)\n",
    "avg_rewards_sarsa = np.array(episode_returns_double_q_learning).reshape(-1, 10).mean(1)\n",
    "\n",
    "plt.plot(avg_rewards_q_learn, color='r', label='Q-Learning')\n",
    "plt.plot(avg_rewards_sarsa, color='b', label='double-Q')\n",
    "plt.legend()\n",
    "plt.xlabel('*10 episodes')\n",
    "plt.ylabel('average return value')\n",
    "plt.show()"
   ]
  },
  {
   "cell_type": "code",
   "execution_count": 8,
   "metadata": {},
   "outputs": [
    {
     "name": "stdout",
     "output_type": "stream",
     "text": [
      "0\n",
      "10\n",
      "20\n",
      "30\n",
      "40\n",
      "50\n",
      "60\n",
      "70\n",
      "80\n",
      "90\n"
     ]
    },
    {
     "data": {
      "image/png": "[encoded data removed]",
      "text/plain": [
       "<Figure size 432x288 with 1 Axes>"
      ]
     },
     "metadata": {
      "needs_background": "light"
     },
     "output_type": "display_data"
    }
   ],
   "source": [
    "## ugly, ugly sampling and averaging\n",
    "# Double Q is worse in this Case!\n",
    "\n",
    "n_samples = 100\n",
    "\n",
    "Q_q_learning, (episode_lengths_q_learning, episode_returns_q_learning) = q_learning(env, 250)\n",
    "Q_double_q_learning, (episode_lengths_double_q_learning, episode_returns_double_q_learning) = double_q_learning(env, 250)\n",
    "\n",
    "total_q_learning = np.array(episode_returns_q_learning)\n",
    "total_double = np.array(episode_returns_double_q_learning)\n",
    "for i in range(n_samples-1):\n",
    "    Q_q_learning, (episode_lengths_q_learning, episode_returns_q_learning) = q_learning(env, 250)\n",
    "    Q_double_q_learning, (episode_lengths_double_q_learning, episode_returns_double_q_learning) = double_q_learning(env, 250)\n",
    "    total_q_learning += episode_returns_q_learning\n",
    "    total_double += episode_returns_double_q_learning\n",
    "    if i%10 == 0:\n",
    "        print(i)\n",
    "avg_rewards_q_learn = np.array(total_q_learning)/n_samples\n",
    "avg_rewards_double = np.array(total_double) / n_samples\n",
    "\n",
    "plt.plot(avg_rewards_q_learn, color='r', label='Q-Learning')\n",
    "plt.plot(avg_rewards_double, color='b', label='double Q-learning')\n",
    "plt.ylim(-100, 0)\n",
    "plt.legend()\n",
    "plt.xlabel('episodes')\n",
    "plt.ylabel('average return value')\n",
    "plt.show()"
   ]
  },
  {
   "cell_type": "markdown",
   "metadata": {},
   "source": [
    "## Deep double Q"
   ]
  },
  {
   "cell_type": "code",
   "execution_count": 9,
   "metadata": {},
   "outputs": [],
   "source": [
    "import gym\n",
    "env = gym.envs.make(\"CartPole-v0\")\n",
    "import time\n",
    "# The nice thing about the CARTPOLE is that it has very nice rendering functionality (if you are on a local environment). Let's have a look at an episode\n",
    "obs = env.reset()\n",
    "env.render()\n",
    "done = False\n",
    "while not done:\n",
    "    obs, reward, done, _ = env.step(env.action_space.sample())\n",
    "    env.render()\n",
    "    time.sleep(0.05)\n",
    "env.close()  # Close the environment or you will have a lot of render screens soon"
   ]
  },
  {
   "cell_type": "code",
   "execution_count": 23,
   "metadata": {},
   "outputs": [],
   "source": [
    "## The Q network\n",
    "class QNetwork(nn.Module):\n",
    "    \n",
    "    def __init__(self, num_hidden=128):\n",
    "        nn.Module.__init__(self)\n",
    "        self.l1 = nn.Linear(4, num_hidden)\n",
    "        self.l2 = nn.Linear(num_hidden, 2)\n",
    "\n",
    "    def forward(self, x):\n",
    "        # YOUR CODE HERE\n",
    "        x = self.l1(x)\n",
    "        x= torch.relu(x)\n",
    "        x = self.l2(x)\n",
    "        \n",
    "        return x\n",
    "    \n",
    "class ReplayMemory:\n",
    "    \n",
    "    def __init__(self, capacity):\n",
    "        self.capacity = capacity\n",
    "        self.memory = []\n",
    "\n",
    "    def push(self, transition):\n",
    "        if len(self.memory) >= self.capacity:\n",
    "            del self.memory[0]\n",
    "        self.memory.append(transition)\n",
    "\n",
    "    def sample(self, batch_size):\n",
    "        sample = random.sample(self.memory, batch_size)\n",
    "        return sample\n",
    "    \n",
    "    def __len__(self):\n",
    "        return len(self.memory)\n",
    "\n",
    "# THIS IS VERY IMPORTANT\n",
    "def get_epsilon(it):\n",
    "    if it < 2000:\n",
    "        return 1 - 0.95 * it / 2000\n",
    "    else:\n",
    "        return 0.02\n",
    "    \n",
    "def get_epsilon2(it):\n",
    "    if it < 2000:\n",
    "        return 1 - 0.95 * it / 2000\n",
    "    else:\n",
    "        return 0.02\n",
    "    \n",
    "    \n",
    "def select_action(model, state, epsilon):\n",
    "    with torch.no_grad():\n",
    "        actions = model(torch.FloatTensor(state))\n",
    "    actions = actions.numpy()\n",
    "    return int(np.random.rand() * len(actions)) if np.random.rand() < epsilon else np.argmax(actions)\n"
   ]
  },
  {
   "cell_type": "markdown",
   "metadata": {},
   "source": [
    "### DQN (normal)"
   ]
  },
  {
   "cell_type": "code",
   "execution_count": 24,
   "metadata": {},
   "outputs": [],
   "source": [
    "def compute_q_val(model, state, action):\n",
    "    Qval = model(torch.FloatTensor(state))\n",
    "    return torch.gather(Qval, 1, action.unsqueeze(-1)).reshape(-1)\n",
    "    \n",
    "def compute_target(model, reward, next_state, done, discount_factor):\n",
    "    # done is a boolean (vector) that indicates if next_state is terminal (episode is done)\n",
    "    Qval = model(torch.FloatTensor(next_state))\n",
    "    target = reward + discount_factor * Qval.max(1)[0] * (1- done.float())\n",
    "    \n",
    "    return target\n",
    "\n",
    "def train(model, memory, optimizer, batch_size, discount_factor):    \n",
    "    # don't learn without some decent experience\n",
    "    if len(memory) < batch_size:\n",
    "        return None\n",
    "\n",
    "    # random transition batch is taken from experience replay memory\n",
    "    transitions = memory.sample(batch_size)\n",
    "    \n",
    "    # transition is a list of 4-tuples, instead we want 4 vectors (as torch.Tensor's)\n",
    "    state, action, reward, next_state, done = zip(*transitions)\n",
    "    \n",
    "    # convert to PyTorch and define types\n",
    "    state = torch.tensor(state, dtype=torch.float)\n",
    "    action = torch.tensor(action, dtype=torch.int64)  # Need 64 bit to use them as index\n",
    "    next_state = torch.tensor(next_state, dtype=torch.float)\n",
    "    reward = torch.tensor(reward, dtype=torch.float)\n",
    "    done = torch.tensor(done, dtype=torch.uint8)  # Boolean\n",
    "    \n",
    "    # compute the q value\n",
    "    q_val = compute_q_val(model, state, action)\n",
    "    \n",
    "    with torch.no_grad():  # Don't compute gradient info for the target (semi-gradient)\n",
    "        target = compute_target(model, reward, next_state, done, discount_factor)\n",
    "    \n",
    "    # loss is measured from error between current and newly expected Q values\n",
    "    loss = F.smooth_l1_loss(q_val, target)\n",
    "\n",
    "    # backpropagation of loss to Neural Network (PyTorch magic)\n",
    "    optimizer.zero_grad()\n",
    "    loss.backward()\n",
    "    optimizer.step()\n",
    "    \n",
    "    return loss.item()  # Returns a Python scalar, and releases history (similar to .detach())\n",
    "\n",
    "def run_episodes(train, model, memory, env, num_episodes, batch_size, discount_factor, learn_rate):\n",
    "    \n",
    "    optimizer = optim.Adam(model.parameters(), learn_rate)\n",
    "    \n",
    "    global_steps = 0  # Count the steps (do not reset at episode start, to compute epsilon)\n",
    "    episode_durations = []  #\n",
    "    for i in range(num_episodes):\n",
    "        episode = 0\n",
    "        s = env.reset()\n",
    "        while True:\n",
    "            eps = get_epsilon(global_steps)\n",
    "            action = select_action(model, s, eps)\n",
    "\n",
    "            next_state, reward, done, _ = env.step(action)\n",
    "            episode += 1\n",
    "            \n",
    "            memory.push((s, action, reward, next_state, done))\n",
    "            \n",
    "            train(model, memory, optimizer, batch_size, discount_factor)\n",
    "\n",
    "            global_steps += 1\n",
    "            \n",
    "            if done: \n",
    "                break\n",
    "                \n",
    "            s = next_state\n",
    "        episode_durations.append(episode)   \n",
    "    return episode_durations\n"
   ]
  },
  {
   "cell_type": "code",
   "execution_count": 25,
   "metadata": {},
   "outputs": [],
   "source": [
    "# Let's run it!\n",
    "num_episodes = 150\n",
    "batch_size = 64\n",
    "discount_factor = 0.8\n",
    "learn_rate = 1e-3\n",
    "memory = ReplayMemory(10000)\n",
    "num_hidden = 128\n",
    "seed = 42  # This is not randomly chosen\n",
    "\n",
    "# We will seed the algorithm (before initializing QNetwork!) for reproducability\n",
    "random.seed(seed)\n",
    "torch.manual_seed(seed)\n",
    "env.seed(seed)\n",
    "\n",
    "model = QNetwork(num_hidden)\n",
    "\n",
    "episode_durations = run_episodes(train, model, memory, env, num_episodes, batch_size, discount_factor, learn_rate)"
   ]
  },
  {
   "cell_type": "markdown",
   "metadata": {},
   "source": [
    "### Double DQN"
   ]
  },
  {
   "cell_type": "code",
   "execution_count": 26,
   "metadata": {},
   "outputs": [],
   "source": [
    "\n",
    "def compute_q_val_double(model, target, state, action):\n",
    "    Qval = model(torch.FloatTensor(state))\n",
    "    Qval2 = target(torch.FloatTensor(state))\n",
    "    return torch.gather(Qval, 1, action.unsqueeze(-1)).reshape(-1), torch.gather(Qval2, 1, action.unsqueeze(-1)).reshape(-1)\n",
    "    \n",
    "def compute_target_double(model, target, reward, next_state, done, discount_factor):\n",
    "    # done is a boolean (vector) that indicates if next_state is terminal (episode is done)\n",
    "    next_Q1 = model(torch.FloatTensor(next_state))\n",
    "    next_Q2 = target(torch.FloatTensor(next_state))\n",
    "    next_Q = torch.min(\n",
    "        torch.max(next_Q1, 1)[0],\n",
    "        torch.max(next_Q2, 1)[0]\n",
    "    )\n",
    "    next_Q = next_Q.view(next_Q.size(0), 1)\n",
    "    expected_Q = reward + discount_factor * next_Q.max(1)[0] * (1- done.float())\n",
    "    \n",
    "    return expected_Q\n",
    "\n",
    "def train_double(model, target, memory, optimizer,optimizer2, batch_size, discount_factor):\n",
    "    \n",
    "    # don't learn without some decent experience\n",
    "    if len(memory) < batch_size:\n",
    "        return None\n",
    "\n",
    "    # random transition batch is taken from experience replay memory\n",
    "    transitions = memory.sample(batch_size)\n",
    "    \n",
    "    # transition is a list of 4-tuples, instead we want 4 vectors (as torch.Tensor's)\n",
    "    state, action, reward, next_state, done = zip(*transitions)\n",
    "    \n",
    "    # convert to PyTorch and define types\n",
    "    state = torch.tensor(state, dtype=torch.float)\n",
    "    action = torch.tensor(action, dtype=torch.int64)  # Need 64 bit to use them as index\n",
    "    next_state = torch.tensor(next_state, dtype=torch.float)\n",
    "    reward = torch.tensor(reward, dtype=torch.float)\n",
    "    done = torch.tensor(done, dtype=torch.uint8)  # Boolean\n",
    "    \n",
    "    # compute the q value\n",
    "    q_val, q_val2 = compute_q_val_double(model, target, state, action)\n",
    "    \n",
    "    with torch.no_grad():  # Don't compute gradient info for the target (semi-gradient)\n",
    "        expected_Q = compute_target_double(model, target, reward, next_state, done, discount_factor)\n",
    "    \n",
    "    # loss is measured from error between current and newly expected Q values\n",
    "    loss1 = F.mse_loss(q_val, expected_Q)\n",
    "\n",
    "    loss2 = F.mse_loss(q_val2, expected_Q)\n",
    "    # backpropagation of loss to Neural Network (PyTorch magic)\n",
    "    optimizer.zero_grad()\n",
    "    loss1.backward()\n",
    "    optimizer.step()\n",
    "    \n",
    "    optimizer2.zero_grad()\n",
    "    loss2.backward()\n",
    "    optimizer2.step()\n",
    "    return loss1.item()  # Returns a Python scalar, and releases history (similar to .detach())\n",
    "\n",
    "def run_episodes_double(train, model,target, memory, env, num_episodes, batch_size, discount_factor, learn_rate):\n",
    "    \n",
    "    optimizer1 = optim.Adam(model.parameters(), learn_rate)\n",
    "    optimizer2 = optim.Adam(target.parameters(), learn_rate)\n",
    "  \n",
    "    global_steps = 0  # Count the steps (do not reset at episode start, to compute epsilon)\n",
    "    episode_durations = []  #\n",
    "    for i in range(num_episodes):\n",
    "        episode = 0\n",
    "        s = env.reset()\n",
    "        while True:\n",
    "            eps = get_epsilon2(global_steps)\n",
    "            action = select_action(model, s, eps)\n",
    "\n",
    "            next_state, reward, done, _ = env.step(action)\n",
    "            # TODO: is it correct to compute duration here and not after the break?\n",
    "            episode += 1\n",
    "            \n",
    "            memory.push((s, action, reward, next_state, done))\n",
    "            \n",
    "            train_double(model, target, memory, optimizer1, optimizer2, batch_size, discount_factor)\n",
    "\n",
    "            global_steps += 1\n",
    "            \n",
    "            if done: \n",
    "                break\n",
    "                \n",
    "            s = next_state\n",
    "        episode_durations.append(episode)   \n",
    "    return episode_durations"
   ]
  },
  {
   "cell_type": "code",
   "execution_count": 27,
   "metadata": {},
   "outputs": [],
   "source": [
    "# Let's run it!\n",
    "num_episodes = 150\n",
    "batch_size = 64\n",
    "discount_factor = 0.8\n",
    "learn_rate = 1e-3\n",
    "memory = ReplayMemory(10000)\n",
    "num_hidden = 128\n",
    "seed = 42  # This is not randomly chosen\n",
    "\n",
    "# We will seed the algorithm (before initializing QNetwork!) for reproducability\n",
    "random.seed(seed)\n",
    "torch.manual_seed(seed)\n",
    "env.seed(seed)\n",
    "\n",
    "model = QNetwork(num_hidden)\n",
    "target = QNetwork(num_hidden)\n",
    "\n",
    "episode_durations_double = run_episodes_double(train, model, target, memory, env, num_episodes, batch_size, discount_factor, learn_rate)"
   ]
  },
  {
   "cell_type": "code",
   "execution_count": 28,
   "metadata": {},
   "outputs": [
    {
     "data": {
      "text/plain": [
       "Text(0.5, 1.0, 'Episode durations per episode')"
      ]
     },
     "execution_count": 28,
     "metadata": {},
     "output_type": "execute_result"
    },
    {
     "data": {
      "image/png": "[encoded data removed]",
      "text/plain": [
       "<Figure size 432x288 with 1 Axes>"
      ]
     },
     "metadata": {
      "needs_background": "light"
     },
     "output_type": "display_data"
    }
   ],
   "source": [
    "# And see the results\n",
    "def smooth(x, N):\n",
    "    cumsum = np.cumsum(np.insert(x, 0, 0)) \n",
    "    return (cumsum[N:] - cumsum[:-N]) / float(N)\n",
    "\n",
    "plt.plot(smooth(episode_durations_double, 10),color='r', label='Double DQN')\n",
    "plt.plot(smooth(episode_durations, 10),color='b', label='DQN')\n",
    "plt.legend()\n",
    "\n",
    "plt.title('Episode durations per episode')"
   ]
  },
  {
   "cell_type": "markdown",
   "metadata": {},
   "source": [
    "### References"
   ]
  },
  {
   "cell_type": "code",
   "execution_count": 16,
   "metadata": {},
   "outputs": [],
   "source": [
    "# https://towardsdatascience.com/double-deep-q-networks-905dd8325412\n",
    "# https://arxiv.org/pdf/1802.09477.pdf"
   ]
  }
 ],
 "metadata": {
  "kernelspec": {
   "display_name": "Python 3",
   "language": "python",
   "name": "python3"
  },
  "language_info": {
   "codemirror_mode": {
    "name": "ipython",
    "version": 3
   },
   "file_extension": ".py",
   "mimetype": "text/x-python",
   "name": "python",
   "nbconvert_exporter": "python",
   "pygments_lexer": "ipython3",
   "version": "3.7.3"
  }
 },
 "nbformat": 4,
 "nbformat_minor": 2
}
